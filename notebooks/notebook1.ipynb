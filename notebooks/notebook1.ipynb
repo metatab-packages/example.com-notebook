{
 "cells": [
  {
   "cell_type": "code",
   "execution_count": 1,
   "metadata": {},
   "outputs": [],
   "source": [
    "import seaborn as sns\n",
    "import metapack as mp\n",
    "import pandas as pd\n",
    "import numpy as np\n",
    "import matplotlib.pyplot as plt\n",
    "from IPython.display import display \n",
    "\n",
    "%matplotlib inline\n",
    "sns.set_context('notebook')\n",
    "mp.jupyter.init()\n"
   ]
  },
  {
   "cell_type": "code",
   "execution_count": 2,
   "metadata": {},
   "outputs": [
    {
     "data": {
      "text/html": [
       "<h1>Example Notebook test</h1>\n",
       "<p><code>example.com-notebook-1</code> Last Update: 2019-08-13T18:41:51</p>\n",
       "<p>__</p>\n",
       "<h2>Contacts</h2>\n",
       "<ul>\n",
       "<li><strong>Wrangler</strong> <a href=\"mailto:eric@civicknowledge.com\">Eric Busboom</a>, <a href=\"http://civicknowledge.com\">Civic Knowledge</a></li>\n",
       "</ul>\n",
       "<h2>Resources</h2>\n",
       "<ul>\n",
       "<li><strong> <a href=\"notebooks/notebook1.ipynb#df\">df</a></strong>. Simple dataframe</li>\n",
       "</ul>"
      ],
      "text/plain": [
       "# Example Notebook test\n",
       "`example.com-notebook-1` Last Update: 2019-08-13T18:41:51\n",
       "\n",
       "__\n",
       "\n",
       "\n",
       "\n",
       "\n",
       " \n",
       "\n",
       "## Contacts\n",
       "\n",
       "* **Wrangler** [Eric Busboom](mailto:eric@civicknowledge.com), [Civic Knowledge](http://civicknowledge.com)\n",
       "\n",
       "## Resources\n",
       "\n",
       "* ** [df](notebooks/notebook1.ipynb#df)**. Simple dataframe\n"
      ]
     },
     "execution_count": 2,
     "metadata": {},
     "output_type": "execute_result"
    }
   ],
   "source": [
    "#pkg = mp.jupyter.open_package()\n",
    "pkg = mp.jupyter.open_source_package()\n",
    "pkg"
   ]
  },
  {
   "cell_type": "code",
   "execution_count": 3,
   "metadata": {},
   "outputs": [
    {
     "data": {
      "text/html": [
       "<div>\n",
       "<style scoped>\n",
       "    .dataframe tbody tr th:only-of-type {\n",
       "        vertical-align: middle;\n",
       "    }\n",
       "\n",
       "    .dataframe tbody tr th {\n",
       "        vertical-align: top;\n",
       "    }\n",
       "\n",
       "    .dataframe thead th {\n",
       "        text-align: right;\n",
       "    }\n",
       "</style>\n",
       "<table border=\"1\" class=\"dataframe\">\n",
       "  <thead>\n",
       "    <tr style=\"text-align: right;\">\n",
       "      <th></th>\n",
       "      <th>id</th>\n",
       "      <th>uuid</th>\n",
       "      <th>int</th>\n",
       "      <th>float</th>\n",
       "    </tr>\n",
       "  </thead>\n",
       "  <tbody>\n",
       "    <tr>\n",
       "      <th>0</th>\n",
       "      <td>1</td>\n",
       "      <td>eb385c36-9298-4427-8925-fe09294dbd5f</td>\n",
       "      <td>30</td>\n",
       "      <td>99.734692</td>\n",
       "    </tr>\n",
       "    <tr>\n",
       "      <th>1</th>\n",
       "      <td>2</td>\n",
       "      <td>fbe2ba34-b130-49b7-bd84-3dc6efb63266</td>\n",
       "      <td>79</td>\n",
       "      <td>18.760068</td>\n",
       "    </tr>\n",
       "    <tr>\n",
       "      <th>2</th>\n",
       "      <td>3</td>\n",
       "      <td>b63c1b4c-0d48-43ae-9f1d-83b0291462b5</td>\n",
       "      <td>21</td>\n",
       "      <td>34.205886</td>\n",
       "    </tr>\n",
       "    <tr>\n",
       "      <th>3</th>\n",
       "      <td>4</td>\n",
       "      <td>bcf29f19-79f3-427d-b068-898e21bdc933</td>\n",
       "      <td>52</td>\n",
       "      <td>85.194799</td>\n",
       "    </tr>\n",
       "    <tr>\n",
       "      <th>4</th>\n",
       "      <td>5</td>\n",
       "      <td>f02d53a3-6bbc-4095-a889-c4dde0ccf577</td>\n",
       "      <td>100</td>\n",
       "      <td>20.341556</td>\n",
       "    </tr>\n",
       "    <tr>\n",
       "      <th>...</th>\n",
       "      <td>...</td>\n",
       "      <td>...</td>\n",
       "      <td>...</td>\n",
       "      <td>...</td>\n",
       "    </tr>\n",
       "    <tr>\n",
       "      <th>9995</th>\n",
       "      <td>9996</td>\n",
       "      <td>2192b989-1653-4801-9bf8-154547992872</td>\n",
       "      <td>48</td>\n",
       "      <td>82.888215</td>\n",
       "    </tr>\n",
       "    <tr>\n",
       "      <th>9996</th>\n",
       "      <td>9997</td>\n",
       "      <td>2ba8cc8f-5b62-4def-816b-a7bea3d33495</td>\n",
       "      <td>83</td>\n",
       "      <td>95.644268</td>\n",
       "    </tr>\n",
       "    <tr>\n",
       "      <th>9997</th>\n",
       "      <td>9998</td>\n",
       "      <td>45cc379b-5088-44f8-850e-16624bf17b8e</td>\n",
       "      <td>10</td>\n",
       "      <td>59.474523</td>\n",
       "    </tr>\n",
       "    <tr>\n",
       "      <th>9998</th>\n",
       "      <td>9999</td>\n",
       "      <td>6f3d58c4-593b-4f87-bf63-399488d55e83</td>\n",
       "      <td>55</td>\n",
       "      <td>2.256339</td>\n",
       "    </tr>\n",
       "    <tr>\n",
       "      <th>9999</th>\n",
       "      <td>10000</td>\n",
       "      <td>ae6b52ca-f500-4d66-93b7-dd4af506109d</td>\n",
       "      <td>48</td>\n",
       "      <td>22.491943</td>\n",
       "    </tr>\n",
       "  </tbody>\n",
       "</table>\n",
       "<p>10000 rows × 4 columns</p>\n",
       "</div>"
      ],
      "text/plain": [
       "         id                                  uuid  int      float\n",
       "0         1  eb385c36-9298-4427-8925-fe09294dbd5f   30  99.734692\n",
       "1         2  fbe2ba34-b130-49b7-bd84-3dc6efb63266   79  18.760068\n",
       "2         3  b63c1b4c-0d48-43ae-9f1d-83b0291462b5   21  34.205886\n",
       "3         4  bcf29f19-79f3-427d-b068-898e21bdc933   52  85.194799\n",
       "4         5  f02d53a3-6bbc-4095-a889-c4dde0ccf577  100  20.341556\n",
       "...     ...                                   ...  ...        ...\n",
       "9995   9996  2192b989-1653-4801-9bf8-154547992872   48  82.888215\n",
       "9996   9997  2ba8cc8f-5b62-4def-816b-a7bea3d33495   83  95.644268\n",
       "9997   9998  45cc379b-5088-44f8-850e-16624bf17b8e   10  59.474523\n",
       "9998   9999  6f3d58c4-593b-4f87-bf63-399488d55e83   55   2.256339\n",
       "9999  10000  ae6b52ca-f500-4d66-93b7-dd4af506109d   48  22.491943\n",
       "\n",
       "[10000 rows x 4 columns]"
      ]
     },
     "execution_count": 3,
     "metadata": {},
     "output_type": "execute_result"
    }
   ],
   "source": [
    "df = pd.read_csv('http://public.source.civicknowledge.com.s3.amazonaws.com/example.com/sources/simple-example.csv')\n",
    "df"
   ]
  },
  {
   "cell_type": "code",
   "execution_count": 9,
   "metadata": {},
   "outputs": [
    {
     "data": {
      "image/png": "[encoded data removed]",
      "text/plain": [
       "<Figure size 432x288 with 1 Axes>"
      ]
     },
     "metadata": {
      "needs_background": "light"
     },
     "output_type": "display_data"
    }
   ],
   "source": [
    "import numpy as np\n",
    "import matplotlib.pyplot as plt\n",
    "\n",
    "x = np.linspace(0, 10, 500)\n",
    "y = np.sin(x)\n",
    "\n",
    "fig, ax = plt.subplots()\n",
    "\n",
    "# Using set_dashes() to modify dashing of an existing line\n",
    "line1, = ax.plot(x, y, label='Using set_dashes()')\n",
    "line1.set_dashes([2, 2, 10, 2])  # 2pt line, 2pt break, 10pt line, 2pt break\n",
    "\n",
    "# Using plot(..., dashes=...) to set the dashing when creating a line\n",
    "line2, = ax.plot(x, y - 0.2, dashes=[6, 2], label='Using the dashes parameter')\n",
    "\n",
    "ax.legend()\n",
    "plt.savefig('../docs/plot.png')\n",
    "plt.show()\n",
    "\n"
   ]
  },
  {
   "cell_type": "code",
   "execution_count": null,
   "metadata": {},
   "outputs": [],
   "source": []
  }
 ],
 "metadata": {
  "kernelspec": {
   "display_name": "Python 3",
   "language": "python",
   "name": "python3"
  },
  "language_info": {
   "codemirror_mode": {
    "name": "ipython",
    "version": 3
   },
   "file_extension": ".py",
   "mimetype": "text/x-python",
   "name": "python",
   "nbconvert_exporter": "python",
   "pygments_lexer": "ipython3",
   "version": "3.6.9"
  }
 },
 "nbformat": 4,
 "nbformat_minor": 4
}
